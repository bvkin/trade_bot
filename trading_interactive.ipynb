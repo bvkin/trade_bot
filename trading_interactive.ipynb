{
 "cells": [
  {
   "cell_type": "code",
   "execution_count": 1,
   "metadata": {},
   "outputs": [],
   "source": [
    "# Cell 1\n",
    "import os\n",
    "from dotenv import load_dotenv\n",
    "from trade_bot import trading \n",
    "from trade_bot.alpaca_trade_manager import AlpacaTradeManager \n",
    "import logging\n"
   ]
  },
  {
   "cell_type": "code",
   "execution_count": 2,
   "metadata": {},
   "outputs": [],
   "source": [
    "logging.basicConfig(level=logging.INFO)"
   ]
  },
  {
   "cell_type": "code",
   "execution_count": 3,
   "metadata": {},
   "outputs": [],
   "source": [
    "# Cell 2\n",
    "load_dotenv()\n",
    "api_key = os.getenv('ALPACA_API_KEY')\n",
    "secret_key = os.getenv('ALPACA_SECRET_KEY')\n",
    "trade_manager = AlpacaTradeManager(alpaca_api_key=api_key, alpaca_secret_key=secret_key)"
   ]
  },
  {
   "cell_type": "code",
   "execution_count": 4,
   "metadata": {},
   "outputs": [
    {
     "name": "stderr",
     "output_type": "stream",
     "text": [
      "INFO:root:Making orders...\n",
      "INFO:root:A\n",
      "INFO:root:AAL\n",
      "INFO:root:AAP\n",
      "INFO:root:AAPL\n",
      "INFO:root:ABBV\n",
      "INFO:root:ABC\n",
      "INFO:root:ABT\n",
      "INFO:root:ACGL\n",
      "INFO:root:ACN\n",
      "INFO:root:ADBE\n"
     ]
    }
   ],
   "source": [
    "# Cell 3\n",
    "trading.make_orders(trade_manager)\n"
   ]
  }
 ],
 "metadata": {
  "kernelspec": {
   "display_name": "Python 3 (ipykernel)",
   "language": "python",
   "name": "python3"
  },
  "language_info": {
   "codemirror_mode": {
    "name": "ipython",
    "version": 3
   },
   "file_extension": ".py",
   "mimetype": "text/x-python",
   "name": "python",
   "nbconvert_exporter": "python",
   "pygments_lexer": "ipython3",
   "version": "3.11.4"
  },
  "vscode": {
   "interpreter": {
    "hash": "4bec319789923d1e8adf9893fe49d73afebe2d269e1f7f686c9be0cbe8fd4144"
   }
  }
 },
 "nbformat": 4,
 "nbformat_minor": 2
}
